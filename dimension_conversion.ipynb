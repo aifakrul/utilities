{
 "cells": [
  {
   "cell_type": "code",
   "execution_count": null,
   "metadata": {},
   "outputs": [],
   "source": [
    "#224,224,3\n",
    "#to\n",
    "#1,224,224,3\n",
    "\n",
    "def decode_jpeg(filename):\n",
    "    bits = tf.io.read_file(filename)\n",
    "    image = tf.image.decode_jpeg(bits)\n",
    "    return image\n",
    "\n",
    "#we can use opencv imread too\n",
    "\n",
    "img = decode_jpeg(each_image)\n",
    "arrs = [img for i in range(1)]\n",
    "res = np.concatenate([arr[np.newaxis] for arr in arrs])"
   ]
  }
 ],
 "metadata": {
  "kernelspec": {
   "display_name": "Python 3",
   "language": "python",
   "name": "python3"
  },
  "language_info": {
   "codemirror_mode": {
    "name": "ipython",
    "version": 3
   },
   "file_extension": ".py",
   "mimetype": "text/x-python",
   "name": "python",
   "nbconvert_exporter": "python",
   "pygments_lexer": "ipython3",
   "version": "3.8.5"
  }
 },
 "nbformat": 4,
 "nbformat_minor": 4
}
